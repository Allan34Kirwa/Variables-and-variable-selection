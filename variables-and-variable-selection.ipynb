{
 "cells": [
  {
   "cell_type": "code",
   "execution_count": 1,
   "id": "e047fd1a",
   "metadata": {
    "_cell_guid": "b1076dfc-b9ad-4769-8c92-a6c4dae69d19",
    "_uuid": "8f2839f25d086af736a60e9eeb907d3b93b6e0e5",
    "execution": {
     "iopub.execute_input": "2024-03-18T06:40:53.809043Z",
     "iopub.status.busy": "2024-03-18T06:40:53.808085Z",
     "iopub.status.idle": "2024-03-18T06:40:56.178572Z",
     "shell.execute_reply": "2024-03-18T06:40:56.177322Z"
    },
    "papermill": {
     "duration": 2.382739,
     "end_time": "2024-03-18T06:40:56.181654",
     "exception": false,
     "start_time": "2024-03-18T06:40:53.798915",
     "status": "completed"
    },
    "tags": []
   },
   "outputs": [],
   "source": [
    "\n",
    "\n",
    "import numpy as np # linear algebra\n",
    "import pandas as pd # data processing, CSV file I/O (e.g. pd.read_csv)\n",
    "from scipy.stats import pearsonr\n",
    "from sklearn.preprocessing import MinMaxScaler\n",
    "from sklearn.feature_selection import VarianceThreshold\n",
    "\n",
    "from sklearn.model_selection import train_test_split\n",
    "from sklearn.linear_model import LinearRegression\n",
    "from sklearn import metrics\n",
    "\n",
    "\n",
    "import os\n",
    "for dirname, _, filenames in os.walk('/kaggle/input'):\n",
    "    for filename in filenames:\n",
    "        print(os.path.join(dirname, filename))\n",
    "\n"
   ]
  },
  {
   "cell_type": "markdown",
   "id": "c1c91200",
   "metadata": {
    "papermill": {
     "duration": 0.005388,
     "end_time": "2024-03-18T06:40:56.193388",
     "exception": false,
     "start_time": "2024-03-18T06:40:56.188000",
     "status": "completed"
    },
    "tags": []
   },
   "source": [
    "Exercises\n",
    "We are provided with the `Crop_yield` dataset that contains various factors that could influence the yield of a particular crop across different regions."
   ]
  },
  {
   "cell_type": "code",
   "execution_count": 2,
   "id": "cfbd2ec9",
   "metadata": {
    "execution": {
     "iopub.execute_input": "2024-03-18T06:40:56.207436Z",
     "iopub.status.busy": "2024-03-18T06:40:56.206258Z",
     "iopub.status.idle": "2024-03-18T06:40:56.401986Z",
     "shell.execute_reply": "2024-03-18T06:40:56.400799Z"
    },
    "papermill": {
     "duration": 0.206274,
     "end_time": "2024-03-18T06:40:56.405122",
     "exception": false,
     "start_time": "2024-03-18T06:40:56.198848",
     "status": "completed"
    },
    "tags": []
   },
   "outputs": [
    {
     "data": {
      "text/html": [
       "<div>\n",
       "<style scoped>\n",
       "    .dataframe tbody tr th:only-of-type {\n",
       "        vertical-align: middle;\n",
       "    }\n",
       "\n",
       "    .dataframe tbody tr th {\n",
       "        vertical-align: top;\n",
       "    }\n",
       "\n",
       "    .dataframe thead th {\n",
       "        text-align: right;\n",
       "    }\n",
       "</style>\n",
       "<table border=\"1\" class=\"dataframe\">\n",
       "  <thead>\n",
       "    <tr style=\"text-align: right;\">\n",
       "      <th></th>\n",
       "      <th>Region</th>\n",
       "      <th>Temperature</th>\n",
       "      <th>Rainfall</th>\n",
       "      <th>Soil_Type</th>\n",
       "      <th>Fertilizer_Usage</th>\n",
       "      <th>Pesticide_Usage</th>\n",
       "      <th>Irrigation</th>\n",
       "      <th>Crop_Variety</th>\n",
       "      <th>Yield</th>\n",
       "    </tr>\n",
       "  </thead>\n",
       "  <tbody>\n",
       "    <tr>\n",
       "      <th>0</th>\n",
       "      <td>East</td>\n",
       "      <td>23.152156</td>\n",
       "      <td>803.362573</td>\n",
       "      <td>Clayey</td>\n",
       "      <td>204.792011</td>\n",
       "      <td>20.767590</td>\n",
       "      <td>1</td>\n",
       "      <td>Variety B</td>\n",
       "      <td>40.316318</td>\n",
       "    </tr>\n",
       "    <tr>\n",
       "      <th>1</th>\n",
       "      <td>West</td>\n",
       "      <td>19.382419</td>\n",
       "      <td>571.567670</td>\n",
       "      <td>Sandy</td>\n",
       "      <td>256.201737</td>\n",
       "      <td>49.290242</td>\n",
       "      <td>0</td>\n",
       "      <td>Variety A</td>\n",
       "      <td>26.846639</td>\n",
       "    </tr>\n",
       "    <tr>\n",
       "      <th>2</th>\n",
       "      <td>North</td>\n",
       "      <td>27.895890</td>\n",
       "      <td>-8.699637</td>\n",
       "      <td>Loamy</td>\n",
       "      <td>222.202626</td>\n",
       "      <td>25.316121</td>\n",
       "      <td>0</td>\n",
       "      <td>Variety C</td>\n",
       "      <td>-0.323558</td>\n",
       "    </tr>\n",
       "    <tr>\n",
       "      <th>3</th>\n",
       "      <td>East</td>\n",
       "      <td>26.741361</td>\n",
       "      <td>897.426194</td>\n",
       "      <td>Loamy</td>\n",
       "      <td>187.984090</td>\n",
       "      <td>17.115362</td>\n",
       "      <td>0</td>\n",
       "      <td>Variety C</td>\n",
       "      <td>45.440871</td>\n",
       "    </tr>\n",
       "    <tr>\n",
       "      <th>4</th>\n",
       "      <td>East</td>\n",
       "      <td>19.090286</td>\n",
       "      <td>649.384694</td>\n",
       "      <td>Loamy</td>\n",
       "      <td>110.459549</td>\n",
       "      <td>24.068804</td>\n",
       "      <td>1</td>\n",
       "      <td>Variety B</td>\n",
       "      <td>35.478118</td>\n",
       "    </tr>\n",
       "  </tbody>\n",
       "</table>\n",
       "</div>"
      ],
      "text/plain": [
       "  Region  Temperature    Rainfall Soil_Type  Fertilizer_Usage  \\\n",
       "0   East    23.152156  803.362573    Clayey        204.792011   \n",
       "1   West    19.382419  571.567670     Sandy        256.201737   \n",
       "2  North    27.895890   -8.699637     Loamy        222.202626   \n",
       "3   East    26.741361  897.426194     Loamy        187.984090   \n",
       "4   East    19.090286  649.384694     Loamy        110.459549   \n",
       "\n",
       "   Pesticide_Usage  Irrigation Crop_Variety      Yield  \n",
       "0        20.767590           1    Variety B  40.316318  \n",
       "1        49.290242           0    Variety A  26.846639  \n",
       "2        25.316121           0    Variety C  -0.323558  \n",
       "3        17.115362           0    Variety C  45.440871  \n",
       "4        24.068804           1    Variety B  35.478118  "
      ]
     },
     "execution_count": 2,
     "metadata": {},
     "output_type": "execute_result"
    }
   ],
   "source": [
    "# Load dataset\n",
    "df= pd.read_csv(\"https://raw.githubusercontent.com/Explore-AI/Public-Data/master/Data/Python/Crop_yield.csv\")\n",
    "df.head(5)"
   ]
  },
  {
   "cell_type": "code",
   "execution_count": 3,
   "id": "e26025f4",
   "metadata": {
    "execution": {
     "iopub.execute_input": "2024-03-18T06:40:56.419552Z",
     "iopub.status.busy": "2024-03-18T06:40:56.419083Z",
     "iopub.status.idle": "2024-03-18T06:40:56.426256Z",
     "shell.execute_reply": "2024-03-18T06:40:56.425013Z"
    },
    "papermill": {
     "duration": 0.017563,
     "end_time": "2024-03-18T06:40:56.428886",
     "exception": false,
     "start_time": "2024-03-18T06:40:56.411323",
     "status": "completed"
    },
    "tags": []
   },
   "outputs": [
    {
     "data": {
      "text/plain": [
       "(1000, 9)"
      ]
     },
     "execution_count": 3,
     "metadata": {},
     "output_type": "execute_result"
    }
   ],
   "source": [
    "# Briefly describes DataFrame dimensions\n",
    "df.shape"
   ]
  },
  {
   "cell_type": "markdown",
   "id": "9ae7c8b0",
   "metadata": {
    "papermill": {
     "duration": 0.005938,
     "end_time": "2024-03-18T06:40:56.440958",
     "exception": false,
     "start_time": "2024-03-18T06:40:56.435020",
     "status": "completed"
    },
    "tags": []
   },
   "source": [
    "`Exercise 1`\n",
    "Our dataset contains several categorical features: `Region`, `Soil_Type`, and `Crop_Variety`.\n",
    "\n",
    "Use dummy variable encoding to convert these features into a numerical format suitable for model training. Verify the transformation by displaying the first five rows of the modified dataset.\n",
    "\n",
    "How has the number of variables in our dataset changed?"
   ]
  },
  {
   "cell_type": "code",
   "execution_count": 4,
   "id": "74b0270f",
   "metadata": {
    "execution": {
     "iopub.execute_input": "2024-03-18T06:40:56.455747Z",
     "iopub.status.busy": "2024-03-18T06:40:56.455297Z",
     "iopub.status.idle": "2024-03-18T06:40:56.493200Z",
     "shell.execute_reply": "2024-03-18T06:40:56.492314Z"
    },
    "papermill": {
     "duration": 0.048291,
     "end_time": "2024-03-18T06:40:56.495476",
     "exception": false,
     "start_time": "2024-03-18T06:40:56.447185",
     "status": "completed"
    },
    "tags": []
   },
   "outputs": [
    {
     "data": {
      "text/html": [
       "<div>\n",
       "<style scoped>\n",
       "    .dataframe tbody tr th:only-of-type {\n",
       "        vertical-align: middle;\n",
       "    }\n",
       "\n",
       "    .dataframe tbody tr th {\n",
       "        vertical-align: top;\n",
       "    }\n",
       "\n",
       "    .dataframe thead th {\n",
       "        text-align: right;\n",
       "    }\n",
       "</style>\n",
       "<table border=\"1\" class=\"dataframe\">\n",
       "  <thead>\n",
       "    <tr style=\"text-align: right;\">\n",
       "      <th></th>\n",
       "      <th>Temperature</th>\n",
       "      <th>Rainfall</th>\n",
       "      <th>Fertilizer_Usage</th>\n",
       "      <th>Pesticide_Usage</th>\n",
       "      <th>Irrigation</th>\n",
       "      <th>Yield</th>\n",
       "      <th>Region_East</th>\n",
       "      <th>Region_North</th>\n",
       "      <th>Region_South</th>\n",
       "      <th>Region_West</th>\n",
       "      <th>Soil_Type_Clayey</th>\n",
       "      <th>Soil_Type_Loamy</th>\n",
       "      <th>Soil_Type_Sandy</th>\n",
       "      <th>Crop_Variety_Variety A</th>\n",
       "      <th>Crop_Variety_Variety B</th>\n",
       "      <th>Crop_Variety_Variety C</th>\n",
       "    </tr>\n",
       "  </thead>\n",
       "  <tbody>\n",
       "    <tr>\n",
       "      <th>0</th>\n",
       "      <td>23.152156</td>\n",
       "      <td>803.362573</td>\n",
       "      <td>204.792011</td>\n",
       "      <td>20.767590</td>\n",
       "      <td>1</td>\n",
       "      <td>40.316318</td>\n",
       "      <td>1</td>\n",
       "      <td>0</td>\n",
       "      <td>0</td>\n",
       "      <td>0</td>\n",
       "      <td>1</td>\n",
       "      <td>0</td>\n",
       "      <td>0</td>\n",
       "      <td>0</td>\n",
       "      <td>1</td>\n",
       "      <td>0</td>\n",
       "    </tr>\n",
       "    <tr>\n",
       "      <th>1</th>\n",
       "      <td>19.382419</td>\n",
       "      <td>571.567670</td>\n",
       "      <td>256.201737</td>\n",
       "      <td>49.290242</td>\n",
       "      <td>0</td>\n",
       "      <td>26.846639</td>\n",
       "      <td>0</td>\n",
       "      <td>0</td>\n",
       "      <td>0</td>\n",
       "      <td>1</td>\n",
       "      <td>0</td>\n",
       "      <td>0</td>\n",
       "      <td>1</td>\n",
       "      <td>1</td>\n",
       "      <td>0</td>\n",
       "      <td>0</td>\n",
       "    </tr>\n",
       "    <tr>\n",
       "      <th>2</th>\n",
       "      <td>27.895890</td>\n",
       "      <td>-8.699637</td>\n",
       "      <td>222.202626</td>\n",
       "      <td>25.316121</td>\n",
       "      <td>0</td>\n",
       "      <td>-0.323558</td>\n",
       "      <td>0</td>\n",
       "      <td>1</td>\n",
       "      <td>0</td>\n",
       "      <td>0</td>\n",
       "      <td>0</td>\n",
       "      <td>1</td>\n",
       "      <td>0</td>\n",
       "      <td>0</td>\n",
       "      <td>0</td>\n",
       "      <td>1</td>\n",
       "    </tr>\n",
       "    <tr>\n",
       "      <th>3</th>\n",
       "      <td>26.741361</td>\n",
       "      <td>897.426194</td>\n",
       "      <td>187.984090</td>\n",
       "      <td>17.115362</td>\n",
       "      <td>0</td>\n",
       "      <td>45.440871</td>\n",
       "      <td>1</td>\n",
       "      <td>0</td>\n",
       "      <td>0</td>\n",
       "      <td>0</td>\n",
       "      <td>0</td>\n",
       "      <td>1</td>\n",
       "      <td>0</td>\n",
       "      <td>0</td>\n",
       "      <td>0</td>\n",
       "      <td>1</td>\n",
       "    </tr>\n",
       "    <tr>\n",
       "      <th>4</th>\n",
       "      <td>19.090286</td>\n",
       "      <td>649.384694</td>\n",
       "      <td>110.459549</td>\n",
       "      <td>24.068804</td>\n",
       "      <td>1</td>\n",
       "      <td>35.478118</td>\n",
       "      <td>1</td>\n",
       "      <td>0</td>\n",
       "      <td>0</td>\n",
       "      <td>0</td>\n",
       "      <td>0</td>\n",
       "      <td>1</td>\n",
       "      <td>0</td>\n",
       "      <td>0</td>\n",
       "      <td>1</td>\n",
       "      <td>0</td>\n",
       "    </tr>\n",
       "  </tbody>\n",
       "</table>\n",
       "</div>"
      ],
      "text/plain": [
       "   Temperature    Rainfall  Fertilizer_Usage  Pesticide_Usage  Irrigation  \\\n",
       "0    23.152156  803.362573        204.792011        20.767590           1   \n",
       "1    19.382419  571.567670        256.201737        49.290242           0   \n",
       "2    27.895890   -8.699637        222.202626        25.316121           0   \n",
       "3    26.741361  897.426194        187.984090        17.115362           0   \n",
       "4    19.090286  649.384694        110.459549        24.068804           1   \n",
       "\n",
       "       Yield  Region_East  Region_North  Region_South  Region_West  \\\n",
       "0  40.316318            1             0             0            0   \n",
       "1  26.846639            0             0             0            1   \n",
       "2  -0.323558            0             1             0            0   \n",
       "3  45.440871            1             0             0            0   \n",
       "4  35.478118            1             0             0            0   \n",
       "\n",
       "   Soil_Type_Clayey  Soil_Type_Loamy  Soil_Type_Sandy  Crop_Variety_Variety A  \\\n",
       "0                 1                0                0                       0   \n",
       "1                 0                0                1                       1   \n",
       "2                 0                1                0                       0   \n",
       "3                 0                1                0                       0   \n",
       "4                 0                1                0                       0   \n",
       "\n",
       "   Crop_Variety_Variety B  Crop_Variety_Variety C  \n",
       "0                       1                       0  \n",
       "1                       0                       0  \n",
       "2                       0                       1  \n",
       "3                       0                       1  \n",
       "4                       1                       0  "
      ]
     },
     "execution_count": 4,
     "metadata": {},
     "output_type": "execute_result"
    }
   ],
   "source": [
    "# Apply dummy variable encoding to the categorical variables\n",
    "df_encoded = pd.get_dummies(df, columns=[\"Region\", \"Soil_Type\", \"Crop_Variety\"], dtype=int)\n",
    "\n",
    "# Display the first few rows of the modified dataset to confirm the transformation\n",
    "df_encoded.head()"
   ]
  },
  {
   "cell_type": "code",
   "execution_count": 5,
   "id": "b1bb28b6",
   "metadata": {
    "execution": {
     "iopub.execute_input": "2024-03-18T06:40:56.511360Z",
     "iopub.status.busy": "2024-03-18T06:40:56.510190Z",
     "iopub.status.idle": "2024-03-18T06:40:56.517885Z",
     "shell.execute_reply": "2024-03-18T06:40:56.516631Z"
    },
    "papermill": {
     "duration": 0.018312,
     "end_time": "2024-03-18T06:40:56.520380",
     "exception": false,
     "start_time": "2024-03-18T06:40:56.502068",
     "status": "completed"
    },
    "tags": []
   },
   "outputs": [
    {
     "data": {
      "text/plain": [
       "(1000, 16)"
      ]
     },
     "execution_count": 5,
     "metadata": {},
     "output_type": "execute_result"
    }
   ],
   "source": [
    "df_encoded.shape"
   ]
  },
  {
   "cell_type": "markdown",
   "id": "a8147c38",
   "metadata": {
    "papermill": {
     "duration": 0.006309,
     "end_time": "2024-03-18T06:40:56.533672",
     "exception": false,
     "start_time": "2024-03-18T06:40:56.527363",
     "status": "completed"
    },
    "tags": []
   },
   "source": [
    "One thing to note is that the number of my columns have increased from `9` to `16` after using dummy variable encoding."
   ]
  },
  {
   "cell_type": "markdown",
   "id": "9fc3a143",
   "metadata": {
    "papermill": {
     "duration": 0.006212,
     "end_time": "2024-03-18T06:40:56.546361",
     "exception": false,
     "start_time": "2024-03-18T06:40:56.540149",
     "status": "completed"
    },
    "tags": []
   },
   "source": [
    "`Exercise 2`\n",
    "We want to determine which variables from the new dataset we will use for model training.\n",
    "\n",
    "Write a function `variance_thresholding` that will use variance thresholding to filter out features based on a variance threshold. The function should accept two parameters, which is the dataframe and the threshold value. It should return two DataFrames, one containing the only the features that meet the variance threshold criterion, and one containing the scaled dataframe.\n",
    "\n",
    "Hint: Scaling is crucial as it allows the variance thresholding to be applied uniformly across features. Read up on using the MinMaxScaler() function from the sklearn.preprocessing package."
   ]
  },
  {
   "cell_type": "code",
   "execution_count": 6,
   "id": "ac42ba12",
   "metadata": {
    "execution": {
     "iopub.execute_input": "2024-03-18T06:40:56.561231Z",
     "iopub.status.busy": "2024-03-18T06:40:56.560843Z",
     "iopub.status.idle": "2024-03-18T06:40:56.569469Z",
     "shell.execute_reply": "2024-03-18T06:40:56.568295Z"
    },
    "papermill": {
     "duration": 0.018982,
     "end_time": "2024-03-18T06:40:56.571851",
     "exception": false,
     "start_time": "2024-03-18T06:40:56.552869",
     "status": "completed"
    },
    "tags": []
   },
   "outputs": [],
   "source": [
    "def variance_thresholding(df_encoded, threshold_value):\n",
    "    \n",
    "    # Splitting the dataset into features and target variable for scaling and training\n",
    "    X = df_encoded.drop(columns=['Yield'])\n",
    "    y = df_encoded['Yield']\n",
    "    \n",
    "    # Initialize and fit the scaler to the features only\n",
    "    scaler = MinMaxScaler()\n",
    "    scaled_features = scaler.fit_transform(X)\n",
    "    \n",
    "    # Convert the scaled features back to a DataFrame\n",
    "    df_scaled = pd.DataFrame(scaled_features, columns=X.columns)\n",
    "    \n",
    "    # Initialize the VarianceThreshold object with the specified threshold value\n",
    "    selector = VarianceThreshold(threshold=threshold_value)\n",
    "    \n",
    "    # Apply the selector to the scaled feature DataFrame\n",
    "    df_filtered_values = selector.fit_transform(df_scaled)\n",
    "    \n",
    "    # Convert the array result into a DataFrame with only the selected features\n",
    "    df_filtered = (\n",
    "        pd.DataFrame(df_filtered_values, columns=df_scaled.columns\n",
    "                     [selector.get_support(indices=True)])\n",
    "    )\n",
    "    \n",
    "    # Return the filtered DataFrame\n",
    "    return df_filtered, df_scaled"
   ]
  },
  {
   "cell_type": "markdown",
   "id": "8022a613",
   "metadata": {
    "papermill": {
     "duration": 0.006276,
     "end_time": "2024-03-18T06:40:56.584906",
     "exception": false,
     "start_time": "2024-03-18T06:40:56.578630",
     "status": "completed"
    },
    "tags": []
   },
   "source": [
    "`Exercise 3`\n",
    "Using the function we created in `Exercise 2`, apply variance threshold filtering to our encoded dataset, with a threshold of 0.03. Compare the number of features before and after applying the variance threshold."
   ]
  },
  {
   "cell_type": "code",
   "execution_count": 7,
   "id": "221d2238",
   "metadata": {
    "execution": {
     "iopub.execute_input": "2024-03-18T06:40:56.599746Z",
     "iopub.status.busy": "2024-03-18T06:40:56.599264Z",
     "iopub.status.idle": "2024-03-18T06:40:56.616691Z",
     "shell.execute_reply": "2024-03-18T06:40:56.615075Z"
    },
    "papermill": {
     "duration": 0.027813,
     "end_time": "2024-03-18T06:40:56.619318",
     "exception": false,
     "start_time": "2024-03-18T06:40:56.591505",
     "status": "completed"
    },
    "tags": []
   },
   "outputs": [
    {
     "name": "stdout",
     "output_type": "stream",
     "text": [
      "Number of features before variance thresholding: 15\n",
      "Number of features after variance thresholding: 13\n"
     ]
    }
   ],
   "source": [
    "# Call the variance_thresholding() function and pass the given threshold\n",
    "df_filtered, df_scaled = variance_thresholding(df_encoded, 0.03)\n",
    "\n",
    "# Compare the number of features before and after variance thresholding\n",
    "print(\"Number of features before variance thresholding:\", df_scaled.shape[1])\n",
    "print(\"Number of features after variance thresholding:\", df_filtered.shape[1])"
   ]
  },
  {
   "cell_type": "markdown",
   "id": "2a0713f0",
   "metadata": {
    "papermill": {
     "duration": 0.006449,
     "end_time": "2024-03-18T06:40:56.632692",
     "exception": false,
     "start_time": "2024-03-18T06:40:56.626243",
     "status": "completed"
    },
    "tags": []
   },
   "source": [
    "`Exercise 4`\n",
    "Train two linear regression models:"
   ]
  },
  {
   "cell_type": "markdown",
   "id": "8faacc1d",
   "metadata": {
    "papermill": {
     "duration": 0.00632,
     "end_time": "2024-03-18T06:40:56.645797",
     "exception": false,
     "start_time": "2024-03-18T06:40:56.639477",
     "status": "completed"
    },
    "tags": []
   },
   "source": [
    "a) Using all the available features in our dummy encoded dataset from Exercise 1."
   ]
  },
  {
   "cell_type": "code",
   "execution_count": 8,
   "id": "99a93a8c",
   "metadata": {
    "execution": {
     "iopub.execute_input": "2024-03-18T06:40:56.660811Z",
     "iopub.status.busy": "2024-03-18T06:40:56.660416Z",
     "iopub.status.idle": "2024-03-18T06:40:56.830703Z",
     "shell.execute_reply": "2024-03-18T06:40:56.828934Z"
    },
    "papermill": {
     "duration": 0.183141,
     "end_time": "2024-03-18T06:40:56.835562",
     "exception": false,
     "start_time": "2024-03-18T06:40:56.652421",
     "status": "completed"
    },
    "tags": []
   },
   "outputs": [
    {
     "data": {
      "text/html": [
       "<style>#sk-container-id-1 {color: black;background-color: white;}#sk-container-id-1 pre{padding: 0;}#sk-container-id-1 div.sk-toggleable {background-color: white;}#sk-container-id-1 label.sk-toggleable__label {cursor: pointer;display: block;width: 100%;margin-bottom: 0;padding: 0.3em;box-sizing: border-box;text-align: center;}#sk-container-id-1 label.sk-toggleable__label-arrow:before {content: \"▸\";float: left;margin-right: 0.25em;color: #696969;}#sk-container-id-1 label.sk-toggleable__label-arrow:hover:before {color: black;}#sk-container-id-1 div.sk-estimator:hover label.sk-toggleable__label-arrow:before {color: black;}#sk-container-id-1 div.sk-toggleable__content {max-height: 0;max-width: 0;overflow: hidden;text-align: left;background-color: #f0f8ff;}#sk-container-id-1 div.sk-toggleable__content pre {margin: 0.2em;color: black;border-radius: 0.25em;background-color: #f0f8ff;}#sk-container-id-1 input.sk-toggleable__control:checked~div.sk-toggleable__content {max-height: 200px;max-width: 100%;overflow: auto;}#sk-container-id-1 input.sk-toggleable__control:checked~label.sk-toggleable__label-arrow:before {content: \"▾\";}#sk-container-id-1 div.sk-estimator input.sk-toggleable__control:checked~label.sk-toggleable__label {background-color: #d4ebff;}#sk-container-id-1 div.sk-label input.sk-toggleable__control:checked~label.sk-toggleable__label {background-color: #d4ebff;}#sk-container-id-1 input.sk-hidden--visually {border: 0;clip: rect(1px 1px 1px 1px);clip: rect(1px, 1px, 1px, 1px);height: 1px;margin: -1px;overflow: hidden;padding: 0;position: absolute;width: 1px;}#sk-container-id-1 div.sk-estimator {font-family: monospace;background-color: #f0f8ff;border: 1px dotted black;border-radius: 0.25em;box-sizing: border-box;margin-bottom: 0.5em;}#sk-container-id-1 div.sk-estimator:hover {background-color: #d4ebff;}#sk-container-id-1 div.sk-parallel-item::after {content: \"\";width: 100%;border-bottom: 1px solid gray;flex-grow: 1;}#sk-container-id-1 div.sk-label:hover label.sk-toggleable__label {background-color: #d4ebff;}#sk-container-id-1 div.sk-serial::before {content: \"\";position: absolute;border-left: 1px solid gray;box-sizing: border-box;top: 0;bottom: 0;left: 50%;z-index: 0;}#sk-container-id-1 div.sk-serial {display: flex;flex-direction: column;align-items: center;background-color: white;padding-right: 0.2em;padding-left: 0.2em;position: relative;}#sk-container-id-1 div.sk-item {position: relative;z-index: 1;}#sk-container-id-1 div.sk-parallel {display: flex;align-items: stretch;justify-content: center;background-color: white;position: relative;}#sk-container-id-1 div.sk-item::before, #sk-container-id-1 div.sk-parallel-item::before {content: \"\";position: absolute;border-left: 1px solid gray;box-sizing: border-box;top: 0;bottom: 0;left: 50%;z-index: -1;}#sk-container-id-1 div.sk-parallel-item {display: flex;flex-direction: column;z-index: 1;position: relative;background-color: white;}#sk-container-id-1 div.sk-parallel-item:first-child::after {align-self: flex-end;width: 50%;}#sk-container-id-1 div.sk-parallel-item:last-child::after {align-self: flex-start;width: 50%;}#sk-container-id-1 div.sk-parallel-item:only-child::after {width: 0;}#sk-container-id-1 div.sk-dashed-wrapped {border: 1px dashed gray;margin: 0 0.4em 0.5em 0.4em;box-sizing: border-box;padding-bottom: 0.4em;background-color: white;}#sk-container-id-1 div.sk-label label {font-family: monospace;font-weight: bold;display: inline-block;line-height: 1.2em;}#sk-container-id-1 div.sk-label-container {text-align: center;}#sk-container-id-1 div.sk-container {/* jupyter's `normalize.less` sets `[hidden] { display: none; }` but bootstrap.min.css set `[hidden] { display: none !important; }` so we also need the `!important` here to be able to override the default hidden behavior on the sphinx rendered scikit-learn.org. See: https://github.com/scikit-learn/scikit-learn/issues/21755 */display: inline-block !important;position: relative;}#sk-container-id-1 div.sk-text-repr-fallback {display: none;}</style><div id=\"sk-container-id-1\" class=\"sk-top-container\"><div class=\"sk-text-repr-fallback\"><pre>LinearRegression()</pre><b>In a Jupyter environment, please rerun this cell to show the HTML representation or trust the notebook. <br />On GitHub, the HTML representation is unable to render, please try loading this page with nbviewer.org.</b></div><div class=\"sk-container\" hidden><div class=\"sk-item\"><div class=\"sk-estimator sk-toggleable\"><input class=\"sk-toggleable__control sk-hidden--visually\" id=\"sk-estimator-id-1\" type=\"checkbox\" checked><label for=\"sk-estimator-id-1\" class=\"sk-toggleable__label sk-toggleable__label-arrow\">LinearRegression</label><div class=\"sk-toggleable__content\"><pre>LinearRegression()</pre></div></div></div></div></div>"
      ],
      "text/plain": [
       "LinearRegression()"
      ]
     },
     "execution_count": 8,
     "metadata": {},
     "output_type": "execute_result"
    }
   ],
   "source": [
    "X_all = df_encoded.drop(columns=['Yield'])\n",
    "y = df_encoded['Yield']\n",
    "# Splitting both datasets into training and testing sets\n",
    "X_train_all, X_test_all, y_train_all, y_test_all = (\n",
    "    train_test_split(X_all, y, test_size=0.2, random_state=42)\n",
    ")\n",
    "\n",
    "# Training the model using all available features\n",
    "model_all = LinearRegression()\n",
    "model_all.fit(X_train_all, y_train_all)"
   ]
  },
  {
   "cell_type": "markdown",
   "id": "cdae4e8c",
   "metadata": {
    "papermill": {
     "duration": 0.016034,
     "end_time": "2024-03-18T06:40:56.866719",
     "exception": false,
     "start_time": "2024-03-18T06:40:56.850685",
     "status": "completed"
    },
    "tags": []
   },
   "source": [
    "b) Using only the features selected through the variance thresholding process in `Exercise 3`."
   ]
  },
  {
   "cell_type": "code",
   "execution_count": 9,
   "id": "e1ca865e",
   "metadata": {
    "execution": {
     "iopub.execute_input": "2024-03-18T06:40:56.903201Z",
     "iopub.status.busy": "2024-03-18T06:40:56.902456Z",
     "iopub.status.idle": "2024-03-18T06:40:56.928031Z",
     "shell.execute_reply": "2024-03-18T06:40:56.926864Z"
    },
    "papermill": {
     "duration": 0.048249,
     "end_time": "2024-03-18T06:40:56.932324",
     "exception": false,
     "start_time": "2024-03-18T06:40:56.884075",
     "status": "completed"
    },
    "tags": []
   },
   "outputs": [
    {
     "data": {
      "text/html": [
       "<style>#sk-container-id-2 {color: black;background-color: white;}#sk-container-id-2 pre{padding: 0;}#sk-container-id-2 div.sk-toggleable {background-color: white;}#sk-container-id-2 label.sk-toggleable__label {cursor: pointer;display: block;width: 100%;margin-bottom: 0;padding: 0.3em;box-sizing: border-box;text-align: center;}#sk-container-id-2 label.sk-toggleable__label-arrow:before {content: \"▸\";float: left;margin-right: 0.25em;color: #696969;}#sk-container-id-2 label.sk-toggleable__label-arrow:hover:before {color: black;}#sk-container-id-2 div.sk-estimator:hover label.sk-toggleable__label-arrow:before {color: black;}#sk-container-id-2 div.sk-toggleable__content {max-height: 0;max-width: 0;overflow: hidden;text-align: left;background-color: #f0f8ff;}#sk-container-id-2 div.sk-toggleable__content pre {margin: 0.2em;color: black;border-radius: 0.25em;background-color: #f0f8ff;}#sk-container-id-2 input.sk-toggleable__control:checked~div.sk-toggleable__content {max-height: 200px;max-width: 100%;overflow: auto;}#sk-container-id-2 input.sk-toggleable__control:checked~label.sk-toggleable__label-arrow:before {content: \"▾\";}#sk-container-id-2 div.sk-estimator input.sk-toggleable__control:checked~label.sk-toggleable__label {background-color: #d4ebff;}#sk-container-id-2 div.sk-label input.sk-toggleable__control:checked~label.sk-toggleable__label {background-color: #d4ebff;}#sk-container-id-2 input.sk-hidden--visually {border: 0;clip: rect(1px 1px 1px 1px);clip: rect(1px, 1px, 1px, 1px);height: 1px;margin: -1px;overflow: hidden;padding: 0;position: absolute;width: 1px;}#sk-container-id-2 div.sk-estimator {font-family: monospace;background-color: #f0f8ff;border: 1px dotted black;border-radius: 0.25em;box-sizing: border-box;margin-bottom: 0.5em;}#sk-container-id-2 div.sk-estimator:hover {background-color: #d4ebff;}#sk-container-id-2 div.sk-parallel-item::after {content: \"\";width: 100%;border-bottom: 1px solid gray;flex-grow: 1;}#sk-container-id-2 div.sk-label:hover label.sk-toggleable__label {background-color: #d4ebff;}#sk-container-id-2 div.sk-serial::before {content: \"\";position: absolute;border-left: 1px solid gray;box-sizing: border-box;top: 0;bottom: 0;left: 50%;z-index: 0;}#sk-container-id-2 div.sk-serial {display: flex;flex-direction: column;align-items: center;background-color: white;padding-right: 0.2em;padding-left: 0.2em;position: relative;}#sk-container-id-2 div.sk-item {position: relative;z-index: 1;}#sk-container-id-2 div.sk-parallel {display: flex;align-items: stretch;justify-content: center;background-color: white;position: relative;}#sk-container-id-2 div.sk-item::before, #sk-container-id-2 div.sk-parallel-item::before {content: \"\";position: absolute;border-left: 1px solid gray;box-sizing: border-box;top: 0;bottom: 0;left: 50%;z-index: -1;}#sk-container-id-2 div.sk-parallel-item {display: flex;flex-direction: column;z-index: 1;position: relative;background-color: white;}#sk-container-id-2 div.sk-parallel-item:first-child::after {align-self: flex-end;width: 50%;}#sk-container-id-2 div.sk-parallel-item:last-child::after {align-self: flex-start;width: 50%;}#sk-container-id-2 div.sk-parallel-item:only-child::after {width: 0;}#sk-container-id-2 div.sk-dashed-wrapped {border: 1px dashed gray;margin: 0 0.4em 0.5em 0.4em;box-sizing: border-box;padding-bottom: 0.4em;background-color: white;}#sk-container-id-2 div.sk-label label {font-family: monospace;font-weight: bold;display: inline-block;line-height: 1.2em;}#sk-container-id-2 div.sk-label-container {text-align: center;}#sk-container-id-2 div.sk-container {/* jupyter's `normalize.less` sets `[hidden] { display: none; }` but bootstrap.min.css set `[hidden] { display: none !important; }` so we also need the `!important` here to be able to override the default hidden behavior on the sphinx rendered scikit-learn.org. See: https://github.com/scikit-learn/scikit-learn/issues/21755 */display: inline-block !important;position: relative;}#sk-container-id-2 div.sk-text-repr-fallback {display: none;}</style><div id=\"sk-container-id-2\" class=\"sk-top-container\"><div class=\"sk-text-repr-fallback\"><pre>LinearRegression()</pre><b>In a Jupyter environment, please rerun this cell to show the HTML representation or trust the notebook. <br />On GitHub, the HTML representation is unable to render, please try loading this page with nbviewer.org.</b></div><div class=\"sk-container\" hidden><div class=\"sk-item\"><div class=\"sk-estimator sk-toggleable\"><input class=\"sk-toggleable__control sk-hidden--visually\" id=\"sk-estimator-id-2\" type=\"checkbox\" checked><label for=\"sk-estimator-id-2\" class=\"sk-toggleable__label sk-toggleable__label-arrow\">LinearRegression</label><div class=\"sk-toggleable__content\"><pre>LinearRegression()</pre></div></div></div></div></div>"
      ],
      "text/plain": [
       "LinearRegression()"
      ]
     },
     "execution_count": 9,
     "metadata": {},
     "output_type": "execute_result"
    }
   ],
   "source": [
    "# Splitting the dataset into training and testing sets\n",
    "X_train_filtered, X_test_filtered, y_train_filtered, y_test_filtered = train_test_split(df_filtered, y, test_size=0.2, random_state=42)\n",
    "\n",
    "# Training the model using selected features\n",
    "model_filtered = LinearRegression()\n",
    "model_filtered.fit(X_train_filtered, y_train_filtered)"
   ]
  }
 ],
 "metadata": {
  "kaggle": {
   "accelerator": "none",
   "dataSources": [],
   "dockerImageVersionId": 30664,
   "isGpuEnabled": false,
   "isInternetEnabled": true,
   "language": "python",
   "sourceType": "notebook"
  },
  "kernelspec": {
   "display_name": "Python 3",
   "language": "python",
   "name": "python3"
  },
  "language_info": {
   "codemirror_mode": {
    "name": "ipython",
    "version": 3
   },
   "file_extension": ".py",
   "mimetype": "text/x-python",
   "name": "python",
   "nbconvert_exporter": "python",
   "pygments_lexer": "ipython3",
   "version": "3.10.13"
  },
  "papermill": {
   "default_parameters": {},
   "duration": 7.194932,
   "end_time": "2024-03-18T06:40:57.876663",
   "environment_variables": {},
   "exception": null,
   "input_path": "__notebook__.ipynb",
   "output_path": "__notebook__.ipynb",
   "parameters": {},
   "start_time": "2024-03-18T06:40:50.681731",
   "version": "2.5.0"
  }
 },
 "nbformat": 4,
 "nbformat_minor": 5
}
